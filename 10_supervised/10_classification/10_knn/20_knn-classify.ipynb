{
 "cells": [
  {
   "cell_type": "markdown",
   "id": "wound-vitamin",
   "metadata": {},
   "source": [
    "# KNN Classifier"
   ]
  },
  {
   "cell_type": "markdown",
   "id": "chubby-animal",
   "metadata": {},
   "source": [
    "## 加载库"
   ]
  },
  {
   "cell_type": "code",
   "execution_count": 1,
   "id": "olympic-nursery",
   "metadata": {},
   "outputs": [],
   "source": [
    "from numpy import arange, array, c_, meshgrid\n",
    "from sklearn import neighbors, datasets\n",
    "from sklearn.neighbors import KNeighborsClassifier"
   ]
  },
  {
   "cell_type": "markdown",
   "id": "weekly-billion",
   "metadata": {},
   "source": [
    "## Home-made 数据集"
   ]
  },
  {
   "cell_type": "markdown",
   "id": "mechanical-wiring",
   "metadata": {},
   "source": [
    "### 加载数据"
   ]
  },
  {
   "cell_type": "code",
   "execution_count": 2,
   "id": "metropolitan-finland",
   "metadata": {},
   "outputs": [],
   "source": [
    "X = array([[-1.0, -1.1], [-1.0, -1.0], [0, 0], [1.0, 1.1], [2.0, 2.0], [2.0, 2.1]])\n",
    "y = array([0, 0, 0, 1, 1, 1])"
   ]
  },
  {
   "cell_type": "markdown",
   "id": "banner-intellectual",
   "metadata": {},
   "source": [
    "### 训练KNN模型"
   ]
  },
  {
   "cell_type": "code",
   "execution_count": 3,
   "id": "corrected-moderator",
   "metadata": {},
   "outputs": [
    {
     "data": {
      "text/plain": [
       "KNeighborsClassifier(n_neighbors=3)"
      ]
     },
     "execution_count": 3,
     "metadata": {},
     "output_type": "execute_result"
    }
   ],
   "source": [
    "knnClf = KNeighborsClassifier(n_neighbors=3)\n",
    "knnClf.fit(X, y)"
   ]
  },
  {
   "cell_type": "markdown",
   "id": "inside-holder",
   "metadata": {},
   "source": [
    "### 预测"
   ]
  },
  {
   "cell_type": "code",
   "execution_count": 4,
   "id": "controlled-jurisdiction",
   "metadata": {},
   "outputs": [
    {
     "name": "stdout",
     "output_type": "stream",
     "text": [
      "Predict:  [0]\n"
     ]
    }
   ],
   "source": [
    "print(\"Predict: \", knnClf.predict([[-1.0, -1.0]]))"
   ]
  },
  {
   "cell_type": "markdown",
   "id": "suited-welcome",
   "metadata": {},
   "source": [
    "## Iris 数据集"
   ]
  },
  {
   "cell_type": "markdown",
   "id": "meaning-collar",
   "metadata": {},
   "source": [
    "### 加载数据"
   ]
  },
  {
   "cell_type": "code",
   "execution_count": 5,
   "id": "thousand-tracker",
   "metadata": {},
   "outputs": [],
   "source": [
    "iris = datasets.load_iris()\n",
    "X = iris.data[:, :2]  # 所有行，前2列，也就是只采用前两个feature\n",
    "y = iris.target"
   ]
  },
  {
   "cell_type": "markdown",
   "id": "excessive-backing",
   "metadata": {},
   "source": [
    "### 训练模型"
   ]
  },
  {
   "cell_type": "code",
   "execution_count": 6,
   "id": "judicial-trader",
   "metadata": {},
   "outputs": [
    {
     "data": {
      "text/plain": [
       "KNeighborsClassifier(n_neighbors=3)"
      ]
     },
     "execution_count": 6,
     "metadata": {},
     "output_type": "execute_result"
    }
   ],
   "source": [
    "knnClf = KNeighborsClassifier(n_neighbors=3)\n",
    "knnClf.fit(X, y)"
   ]
  },
  {
   "cell_type": "markdown",
   "id": "parallel-budget",
   "metadata": {},
   "source": [
    "### 预测"
   ]
  },
  {
   "cell_type": "code",
   "execution_count": 7,
   "id": "hollywood-processing",
   "metadata": {},
   "outputs": [
    {
     "name": "stdout",
     "output_type": "stream",
     "text": [
      "Predict:  [1 0]\n"
     ]
    }
   ],
   "source": [
    "print(\"Predict: \", knnClf.predict([[5.0, 2.0], [4.0, 3.0]]))"
   ]
  }
 ],
 "metadata": {
  "interpreter": {
   "hash": "1fef96a86254b5b64b7294805a674893d583399788ea545149c5bfbe00efcc65"
  },
  "kernelspec": {
   "display_name": "Python 3",
   "language": "python",
   "name": "python3"
  },
  "language_info": {
   "codemirror_mode": {
    "name": "ipython",
    "version": 3
   },
   "file_extension": ".py",
   "mimetype": "text/x-python",
   "name": "python",
   "nbconvert_exporter": "python",
   "pygments_lexer": "ipython3",
   "version": "3.8.8"
  }
 },
 "nbformat": 4,
 "nbformat_minor": 5
}
