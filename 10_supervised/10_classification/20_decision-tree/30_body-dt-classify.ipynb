{
 "cells": [
  {
   "cell_type": "markdown",
   "id": "democratic-series",
   "metadata": {},
   "source": [
    "# Body Decision Tree Classify"
   ]
  },
  {
   "cell_type": "markdown",
   "id": "organic-watson",
   "metadata": {},
   "source": [
    "## Import"
   ]
  },
  {
   "cell_type": "code",
   "execution_count": 1,
   "id": "serious-three",
   "metadata": {},
   "outputs": [],
   "source": [
    "import numpy as np\n",
    "from sklearn.tree import DecisionTreeClassifier\n",
    "from sklearn.model_selection import train_test_split\n",
    "\n",
    "# 系统库\n",
    "import os, sys\n",
    "\n",
    "# 自带数据\n",
    "datalib_path = os.path.join(os.path.abspath('.'), '../../../../')\n",
    "sys.path.append(datalib_path)\n",
    "import dataset"
   ]
  },
  {
   "cell_type": "markdown",
   "id": "polish-exploration",
   "metadata": {},
   "source": [
    "## Load Data"
   ]
  },
  {
   "cell_type": "code",
   "execution_count": 3,
   "id": "greater-tracker",
   "metadata": {},
   "outputs": [],
   "source": [
    "X_tmp = []\n",
    "y_tmp = []\n",
    "with open(os.path.join(dataset.body_path, 'body.txt')) as ifile:\n",
    "    for line in ifile:\n",
    "        # feature: 身高 体重   label:  胖瘦\n",
    "        tokens = line.strip().split(' ')\n",
    "        X_tmp.append([float(tk) for tk in tokens[:-1]])\n",
    "        y_tmp.append(tokens[-1])\n",
    "\n",
    "X = np.array(X_tmp)\n",
    "y_tmp = np.array(y_tmp) \n",
    "y = np.zeros(y_tmp.shape)\n",
    "y[y_tmp == 'fat'] = 1  # label转换为0/1"
   ]
  },
  {
   "cell_type": "markdown",
   "id": "tutorial-definition",
   "metadata": {},
   "source": [
    "## Separate Data"
   ]
  },
  {
   "cell_type": "code",
   "execution_count": 4,
   "id": "eight-atlanta",
   "metadata": {},
   "outputs": [],
   "source": [
    "# 拆分数据，80%做训练，20%做测试\n",
    "X_train, X_test, y_train, y_test = train_test_split(X, y, test_size=0.2)"
   ]
  },
  {
   "cell_type": "markdown",
   "id": "czech-community",
   "metadata": {},
   "source": [
    "## Train Decision Tree Classifier"
   ]
  },
  {
   "cell_type": "code",
   "execution_count": 5,
   "id": "leading-salon",
   "metadata": {},
   "outputs": [
    {
     "name": "stdout",
     "output_type": "stream",
     "text": [
      "feature_importances_: [0.51079154 0.48920846]\n",
      "score 准确率为 1.0000\n"
     ]
    }
   ],
   "source": [
    "# 使用ID3决策树\n",
    "id3DtClf = DecisionTreeClassifier(criterion='entropy')\n",
    "id3DtClf.fit(X_train, y_train)\n",
    "\n",
    "# 系数反映每个feature的影响力，越大表示该feature在分类中起到的作用越大\n",
    "print('feature_importances_: %s' % id3DtClf.feature_importances_)\n",
    "\n",
    "# 得到决策树准确率\n",
    "acc_decision_tree = round(id3DtClf.score(X_train, y_train), 6)\n",
    "print(u'score 准确率为 %.4lf' % acc_decision_tree)"
   ]
  },
  {
   "cell_type": "markdown",
   "id": "beginning-municipality",
   "metadata": {},
   "source": [
    "## 预测"
   ]
  },
  {
   "cell_type": "code",
   "execution_count": 6,
   "id": "extended-native",
   "metadata": {},
   "outputs": [
    {
     "data": {
      "text/plain": [
       "array([0., 1., 0., 1., 1., 0., 0., 0.])"
      ]
     },
     "execution_count": 6,
     "metadata": {},
     "output_type": "execute_result"
    }
   ],
   "source": [
    "predictTrainLabelSet = id3DtClf.predict(X_train)\n",
    "predictTrainLabelSet"
   ]
  },
  {
   "cell_type": "code",
   "execution_count": null,
   "id": "f65b2676",
   "metadata": {},
   "outputs": [],
   "source": []
  }
 ],
 "metadata": {
  "interpreter": {
   "hash": "1fef96a86254b5b64b7294805a674893d583399788ea545149c5bfbe00efcc65"
  },
  "kernelspec": {
   "display_name": "Python 3",
   "language": "python",
   "name": "python3"
  },
  "language_info": {
   "codemirror_mode": {
    "name": "ipython",
    "version": 3
   },
   "file_extension": ".py",
   "mimetype": "text/x-python",
   "name": "python",
   "nbconvert_exporter": "python",
   "pygments_lexer": "ipython3",
   "version": "3.8.8"
  }
 },
 "nbformat": 4,
 "nbformat_minor": 5
}
