{
 "cells": [
  {
   "cell_type": "code",
   "execution_count": 1,
   "id": "absolute-three",
   "metadata": {
    "scrolled": true
   },
   "outputs": [],
   "source": [
    "from sklearn.cluster import KMeans\n",
    "from sklearn import preprocessing\n",
    "import pandas as pd\n",
    "import numpy as np\n",
    "\n",
    "# 系统库\n",
    "import os, sys\n",
    "\n",
    "# 自带数据\n",
    "datalib_path = os.path.join(os.path.abspath('.'), '../../../../')\n",
    "sys.path.append(datalib_path)\n",
    "import dataset"
   ]
  },
  {
   "cell_type": "markdown",
   "id": "alive-slovenia",
   "metadata": {},
   "source": [
    "# Load Data"
   ]
  },
  {
   "cell_type": "code",
   "execution_count": 2,
   "id": "numerous-witch",
   "metadata": {},
   "outputs": [],
   "source": [
    "dataSet = pd.read_csv(os.path.join(dataset.football_path, 'data.csv'), encoding='gbk')\n",
    "X_train = dataSet[['2019', '2018', '2015']]\n",
    "# 规范化到[0,1]空间\n",
    "min_max_scaler = preprocessing.MinMaxScaler()\n",
    "X_train = min_max_scaler.fit_transform(X_train)"
   ]
  },
  {
   "cell_type": "markdown",
   "id": "geological-clinton",
   "metadata": {},
   "source": [
    "## Train"
   ]
  },
  {
   "cell_type": "code",
   "execution_count": 3,
   "id": "cubic-continuity",
   "metadata": {},
   "outputs": [],
   "source": [
    "kmeans = KMeans(n_clusters=3)\n",
    "kmeans.fit(X_train)\n",
    "y_train_predict = kmeans.predict(X_train)"
   ]
  },
  {
   "cell_type": "markdown",
   "id": "adjustable-recipe",
   "metadata": {},
   "source": [
    "## Build New Dataset"
   ]
  },
  {
   "cell_type": "code",
   "execution_count": 4,
   "id": "whole-joyce",
   "metadata": {},
   "outputs": [
    {
     "name": "stdout",
     "output_type": "stream",
     "text": [
      "        国家  2019  2018  2015  聚类\n",
      "0       中国    73    40     7   2\n",
      "1       日本    60    15     5   0\n",
      "2       韩国    61    19     2   0\n",
      "3       伊朗    34    18     6   0\n",
      "4       沙特    67    26    10   0\n",
      "5      伊拉克    91    40     4   2\n",
      "6      卡塔尔   101    40    13   1\n",
      "7      阿联酋    81    40     6   2\n",
      "8   乌兹别克斯坦    88    40     8   2\n",
      "9       泰国   122    40    17   1\n",
      "10      越南   102    50    17   1\n",
      "11      阿曼    87    50    12   1\n",
      "12      巴林   116    50    11   1\n",
      "13      朝鲜   110    50    14   1\n",
      "14      印尼   164    50    17   1\n",
      "15      澳洲    40    30     1   0\n",
      "16     叙利亚    76    40    17   1\n",
      "17      约旦   118    50     9   1\n",
      "18     科威特   160    50    15   1\n",
      "19    巴勒斯坦    96    50    16   1\n"
     ]
    }
   ],
   "source": [
    "# 合并聚类结果，插入到原数据中\n",
    "result = pd.concat((dataSet, pd.DataFrame(y_train_predict)), axis=1)\n",
    "result.rename({0: u'聚类'}, axis=1, inplace=True)\n",
    "print(result)"
   ]
  }
 ],
 "metadata": {
  "interpreter": {
   "hash": "a5950bd233fe1ee8df13839024468c0dae339d121cc033fd9820e3e5209fc92f"
  },
  "kernelspec": {
   "display_name": "Python 3",
   "language": "python",
   "name": "python3"
  },
  "language_info": {
   "codemirror_mode": {
    "name": "ipython",
    "version": 3
   },
   "file_extension": ".py",
   "mimetype": "text/x-python",
   "name": "python",
   "nbconvert_exporter": "python",
   "pygments_lexer": "ipython3",
   "version": "3.8.8"
  }
 },
 "nbformat": 4,
 "nbformat_minor": 5
}
