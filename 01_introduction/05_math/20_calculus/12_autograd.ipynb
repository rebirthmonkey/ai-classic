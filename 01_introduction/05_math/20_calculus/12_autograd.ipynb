{
 "cells": [
  {
   "cell_type": "markdown",
   "id": "8f592b7e",
   "metadata": {
    "origin_pos": 0
   },
   "source": [
    "# 自动微分\n",
    "\n",
    "虽然求导的计算很简单，只需要一些基本的微积分，但对于复杂的模型，手工进行更新是一件很痛苦的事情（而且经常容易出错）。\n",
    "\n",
    "深度学习框架通过自动计算导数，即自动微分（automatic differentiation）来加快求导。\n",
    "实际中，根据设计好的模型，系统会构建一个计算图（computational graph），来跟踪计算是哪些数据通过哪些操作组合起来产生输出。\n",
    "自动微分使系统能够随后反向传播梯度，这里反向传播（backpropagate）意味着跟踪整个计算图，填充关于每个参数的偏导数。"
   ]
  },
  {
   "cell_type": "markdown",
   "source": [
    "## 一个简单的例子\n",
    "\n",
    "作为一个演示例子，假设对函数 $y=2\\mathbf{x}^{\\top}\\mathbf{x}$ 关于列向量 $\\mathbf{x}$ 求导。\n",
    "首先，创建变量`x`并为其分配一个初始值。"
   ],
   "metadata": {
    "collapsed": false
   }
  },
  {
   "cell_type": "code",
   "execution_count": 1,
   "id": "498c3ed5",
   "metadata": {
    "execution": {
     "iopub.execute_input": "2022-12-07T16:37:09.704166Z",
     "iopub.status.busy": "2022-12-07T16:37:09.703482Z",
     "iopub.status.idle": "2022-12-07T16:37:10.849947Z",
     "shell.execute_reply": "2022-12-07T16:37:10.848845Z"
    },
    "origin_pos": 2,
    "tab": [
     "pytorch"
    ],
    "ExecuteTime": {
     "end_time": "2023-06-29T01:06:33.462259Z",
     "start_time": "2023-06-29T01:06:31.716761Z"
    }
   },
   "outputs": [
    {
     "data": {
      "text/plain": "tensor([0., 1., 2., 3.])"
     },
     "execution_count": 1,
     "metadata": {},
     "output_type": "execute_result"
    }
   ],
   "source": [
    "import torch\n",
    "\n",
    "x = torch.arange(4.0)\n",
    "x"
   ]
  },
  {
   "cell_type": "markdown",
   "id": "ee187726",
   "metadata": {
    "origin_pos": 5
   },
   "source": [
    "在计算 $y$ 关于 $\\mathbf{x}$ 的梯度之前，需要一个地方来存储梯度。\n",
    "重要的是，我们不会在每次对一个参数求导时都分配新的内存。\n",
    "因为我们经常会成千上万次地更新相同的参数，每次都分配新的内存可能很快就会将内存耗尽。\n",
    "注意，一个标量函数关于向量$\\mathbf{x}$的梯度是向量，并且与$\\mathbf{x}$具有相同的形状。"
   ]
  },
  {
   "cell_type": "code",
   "execution_count": 2,
   "id": "f8f4026b",
   "metadata": {
    "execution": {
     "iopub.execute_input": "2022-12-07T16:37:10.853801Z",
     "iopub.status.busy": "2022-12-07T16:37:10.853279Z",
     "iopub.status.idle": "2022-12-07T16:37:10.858081Z",
     "shell.execute_reply": "2022-12-07T16:37:10.857050Z"
    },
    "origin_pos": 7,
    "tab": [
     "pytorch"
    ],
    "ExecuteTime": {
     "end_time": "2023-06-29T01:06:59.616561Z",
     "start_time": "2023-06-29T01:06:59.610995Z"
    }
   },
   "outputs": [
    {
     "name": "stdout",
     "output_type": "stream",
     "text": [
      "None\n"
     ]
    }
   ],
   "source": [
    "x.requires_grad_(True)  # 等价于x=torch.arange(4.0,requires_grad=True)\n",
    "print(x.grad)"
   ]
  },
  {
   "cell_type": "markdown",
   "id": "4fd755d2",
   "metadata": {
    "origin_pos": 10
   },
   "source": [
    "计算 $y$"
   ]
  },
  {
   "cell_type": "code",
   "execution_count": 3,
   "id": "eeb79797",
   "metadata": {
    "execution": {
     "iopub.execute_input": "2022-12-07T16:37:10.861469Z",
     "iopub.status.busy": "2022-12-07T16:37:10.861031Z",
     "iopub.status.idle": "2022-12-07T16:37:10.867917Z",
     "shell.execute_reply": "2022-12-07T16:37:10.867083Z"
    },
    "origin_pos": 12,
    "tab": [
     "pytorch"
    ],
    "ExecuteTime": {
     "end_time": "2023-06-29T01:07:13.342373Z",
     "start_time": "2023-06-29T01:07:13.334523Z"
    }
   },
   "outputs": [
    {
     "name": "stdout",
     "output_type": "stream",
     "text": [
      "tensor(28., grad_fn=<MulBackward0>)\n"
     ]
    }
   ],
   "source": [
    "y = 2 * torch.dot(x, x)\n",
    "print(y)"
   ]
  },
  {
   "cell_type": "markdown",
   "id": "614f1281",
   "metadata": {
    "origin_pos": 15
   },
   "source": [
    "`x`是一个长度为4的向量，计算`x`和`x`的点积，得到了我们赋值给`y`的标量输出。\n",
    "接下来，通过调用反向传播函数来自动计算 `y` 关于 `x` 每个分量的梯度，并打印这些梯度。"
   ]
  },
  {
   "cell_type": "code",
   "execution_count": 4,
   "id": "b21e1420",
   "metadata": {
    "execution": {
     "iopub.execute_input": "2022-12-07T16:37:10.872410Z",
     "iopub.status.busy": "2022-12-07T16:37:10.871742Z",
     "iopub.status.idle": "2022-12-07T16:37:10.877373Z",
     "shell.execute_reply": "2022-12-07T16:37:10.876674Z"
    },
    "origin_pos": 17,
    "tab": [
     "pytorch"
    ],
    "ExecuteTime": {
     "end_time": "2023-06-29T01:07:46.235492Z",
     "start_time": "2023-06-29T01:07:46.188309Z"
    }
   },
   "outputs": [
    {
     "data": {
      "text/plain": "tensor([ 0.,  4.,  8., 12.])"
     },
     "execution_count": 4,
     "metadata": {},
     "output_type": "execute_result"
    }
   ],
   "source": [
    "y.backward()\n",
    "x.grad"
   ]
  },
  {
   "cell_type": "markdown",
   "id": "e892b1d5",
   "metadata": {
    "origin_pos": 20
   },
   "source": [
    "函数 $y=2\\mathbf{x}^{\\top}\\mathbf{x}$ 关于 $\\mathbf{x}$ 的梯度应为 $4\\mathbf{x}$。"
   ]
  },
  {
   "cell_type": "code",
   "execution_count": 5,
   "id": "f72da1f0",
   "metadata": {
    "execution": {
     "iopub.execute_input": "2022-12-07T16:37:10.880808Z",
     "iopub.status.busy": "2022-12-07T16:37:10.880315Z",
     "iopub.status.idle": "2022-12-07T16:37:10.887007Z",
     "shell.execute_reply": "2022-12-07T16:37:10.886236Z"
    },
    "origin_pos": 22,
    "tab": [
     "pytorch"
    ],
    "ExecuteTime": {
     "end_time": "2023-06-29T01:08:07.972558Z",
     "start_time": "2023-06-29T01:08:07.965033Z"
    }
   },
   "outputs": [
    {
     "data": {
      "text/plain": "tensor([True, True, True, True])"
     },
     "execution_count": 5,
     "metadata": {},
     "output_type": "execute_result"
    }
   ],
   "source": [
    "x.grad == 4 * x"
   ]
  },
  {
   "cell_type": "markdown",
   "id": "355dc4bd",
   "metadata": {
    "origin_pos": 25
   },
   "source": [
    "计算`x`的另一个函数。"
   ]
  },
  {
   "cell_type": "code",
   "execution_count": 6,
   "id": "e18e98cc",
   "metadata": {
    "execution": {
     "iopub.execute_input": "2022-12-07T16:37:10.890349Z",
     "iopub.status.busy": "2022-12-07T16:37:10.889853Z",
     "iopub.status.idle": "2022-12-07T16:37:10.895860Z",
     "shell.execute_reply": "2022-12-07T16:37:10.895107Z"
    },
    "origin_pos": 27,
    "tab": [
     "pytorch"
    ],
    "ExecuteTime": {
     "end_time": "2023-06-29T01:08:29.188746Z",
     "start_time": "2023-06-29T01:08:29.175456Z"
    }
   },
   "outputs": [
    {
     "data": {
      "text/plain": "tensor([1., 1., 1., 1.])"
     },
     "execution_count": 6,
     "metadata": {},
     "output_type": "execute_result"
    }
   ],
   "source": [
    "# 在默认情况下，PyTorch会累积梯度，我们需要清除之前的值\n",
    "x.grad.zero_()\n",
    "y = x.sum()\n",
    "y.backward()\n",
    "x.grad"
   ]
  },
  {
   "cell_type": "markdown",
   "id": "640dee7e",
   "metadata": {
    "origin_pos": 30
   },
   "source": [
    "## 非标量变量的反向传播\n",
    "\n",
    "当`y`不是标量时，向量`y`关于向量`x`的导数的最自然解释是一个矩阵。对于高阶和高维的`y`和`x`，求导的结果可以是一个高阶张量。"
   ]
  },
  {
   "cell_type": "code",
   "execution_count": 7,
   "id": "de02a306",
   "metadata": {
    "execution": {
     "iopub.execute_input": "2022-12-07T16:37:10.899324Z",
     "iopub.status.busy": "2022-12-07T16:37:10.898840Z",
     "iopub.status.idle": "2022-12-07T16:37:10.904849Z",
     "shell.execute_reply": "2022-12-07T16:37:10.904154Z"
    },
    "origin_pos": 32,
    "tab": [
     "pytorch"
    ],
    "ExecuteTime": {
     "end_time": "2023-06-29T01:10:50.484898Z",
     "start_time": "2023-06-29T01:10:50.476213Z"
    }
   },
   "outputs": [
    {
     "data": {
      "text/plain": "tensor([0., 2., 4., 6.])"
     },
     "execution_count": 7,
     "metadata": {},
     "output_type": "execute_result"
    }
   ],
   "source": [
    "# 对非标量调用backward需要传入一个gradient参数，该参数指定微分函数关于self的梯度。\n",
    "# 本例只想求偏导数的和，所以传递一个1的梯度是合适的\n",
    "x.grad.zero_()\n",
    "y = x * x\n",
    "# 等价于y.backward(torch.ones(len(x)))\n",
    "y.sum().backward()\n",
    "x.grad"
   ]
  },
  {
   "cell_type": "markdown",
   "id": "c8831f3d",
   "metadata": {
    "origin_pos": 45
   },
   "source": [
    "## Python控制流的梯度计算\n",
    "\n",
    "使用自动微分的一个好处是：即使构建函数的计算图需要通过 Python 控制流（例如，条件、循环或任意函数调用），我们仍然可以计算得到的变量的梯度。\n",
    "在下面的代码中，`while`循环的迭代次数和`if`语句的结果都取决于输入`a`的值。"
   ]
  },
  {
   "cell_type": "code",
   "execution_count": 8,
   "id": "e4eb430b",
   "metadata": {
    "execution": {
     "iopub.execute_input": "2022-12-07T16:37:10.930293Z",
     "iopub.status.busy": "2022-12-07T16:37:10.929875Z",
     "iopub.status.idle": "2022-12-07T16:37:10.935285Z",
     "shell.execute_reply": "2022-12-07T16:37:10.934140Z"
    },
    "origin_pos": 47,
    "tab": [
     "pytorch"
    ],
    "ExecuteTime": {
     "end_time": "2023-06-29T01:11:45.271974Z",
     "start_time": "2023-06-29T01:11:45.262975Z"
    }
   },
   "outputs": [],
   "source": [
    "def f(a):\n",
    "    b = a * 2\n",
    "    while b.norm() < 1000:\n",
    "        b = b * 2\n",
    "    if b.sum() > 0:\n",
    "        c = b\n",
    "    else:\n",
    "        c = 100 * b\n",
    "    return c"
   ]
  },
  {
   "cell_type": "markdown",
   "id": "b7ae43cf",
   "metadata": {
    "origin_pos": 50
   },
   "source": [
    "让我们计算梯度。"
   ]
  },
  {
   "cell_type": "code",
   "execution_count": 9,
   "id": "4251a67a",
   "metadata": {
    "execution": {
     "iopub.execute_input": "2022-12-07T16:37:10.938498Z",
     "iopub.status.busy": "2022-12-07T16:37:10.937961Z",
     "iopub.status.idle": "2022-12-07T16:37:10.946161Z",
     "shell.execute_reply": "2022-12-07T16:37:10.945110Z"
    },
    "origin_pos": 52,
    "tab": [
     "pytorch"
    ],
    "ExecuteTime": {
     "end_time": "2023-06-29T01:11:56.367336Z",
     "start_time": "2023-06-29T01:11:56.355037Z"
    }
   },
   "outputs": [],
   "source": [
    "a = torch.randn(size=(), requires_grad=True)\n",
    "d = f(a)\n",
    "d.backward()"
   ]
  },
  {
   "cell_type": "markdown",
   "id": "6b607640",
   "metadata": {
    "origin_pos": 55
   },
   "source": [
    "我们现在可以分析上面定义的`f`函数，它在其输入`a`中是分段线性的。\n",
    "换言之，对于任何`a`，存在某个常量标量`k`，使得`f(a)=k*a`，其中`k`的值取决于输入`a`，因此可以用`d/a`验证梯度是否正确。"
   ]
  },
  {
   "cell_type": "code",
   "execution_count": 10,
   "id": "cd3e9d01",
   "metadata": {
    "execution": {
     "iopub.execute_input": "2022-12-07T16:37:10.949650Z",
     "iopub.status.busy": "2022-12-07T16:37:10.949215Z",
     "iopub.status.idle": "2022-12-07T16:37:10.956034Z",
     "shell.execute_reply": "2022-12-07T16:37:10.954996Z"
    },
    "origin_pos": 57,
    "tab": [
     "pytorch"
    ],
    "ExecuteTime": {
     "end_time": "2023-06-29T01:12:28.941754Z",
     "start_time": "2023-06-29T01:12:28.936166Z"
    }
   },
   "outputs": [
    {
     "data": {
      "text/plain": "tensor(True)"
     },
     "execution_count": 10,
     "metadata": {},
     "output_type": "execute_result"
    }
   ],
   "source": [
    "a.grad == d / a"
   ]
  }
 ],
 "metadata": {
  "language_info": {
   "name": "python"
  },
  "kernelspec": {
   "name": "python3",
   "language": "python",
   "display_name": "Python 3 (ipykernel)"
  }
 },
 "nbformat": 4,
 "nbformat_minor": 5
}
