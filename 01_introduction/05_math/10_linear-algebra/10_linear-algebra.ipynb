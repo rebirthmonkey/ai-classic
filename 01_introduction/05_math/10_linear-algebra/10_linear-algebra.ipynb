{
 "cells": [
  {
   "cell_type": "markdown",
   "id": "539f91f0",
   "metadata": {
    "origin_pos": 0
   },
   "source": [
    "# 线性代数\n",
    "\n",
    "## 标量\n",
    "标量由只有一个元素的张量表示。\n",
    "下面的代码将实例化两个标量，并执行一些熟悉的算术运算，即加法、乘法、除法和指数。"
   ]
  },
  {
   "cell_type": "code",
   "execution_count": 1,
   "id": "8428fe2d",
   "metadata": {
    "execution": {
     "iopub.execute_input": "2022-12-07T16:49:33.083537Z",
     "iopub.status.busy": "2022-12-07T16:49:33.076823Z",
     "iopub.status.idle": "2022-12-07T16:49:34.322234Z",
     "shell.execute_reply": "2022-12-07T16:49:34.321388Z"
    },
    "origin_pos": 2,
    "tab": [
     "pytorch"
    ],
    "ExecuteTime": {
     "end_time": "2023-06-28T12:51:10.106956Z",
     "start_time": "2023-06-28T12:51:08.081392Z"
    }
   },
   "outputs": [
    {
     "data": {
      "text/plain": "(tensor(5.), tensor(6.), tensor(1.5000), tensor(9.))"
     },
     "execution_count": 1,
     "metadata": {},
     "output_type": "execute_result"
    }
   ],
   "source": [
    "import torch\n",
    "\n",
    "x = torch.tensor(3.0)\n",
    "y = torch.tensor(2.0)\n",
    "\n",
    "x + y, x * y, x / y, x**y"
   ]
  },
  {
   "cell_type": "markdown",
   "id": "95331593",
   "metadata": {
    "origin_pos": 5
   },
   "source": [
    "## 向量\n",
    "向量可以被视为标量值组成的列表，而这些标量值被称为向量的元素（element）。\n",
    "例如，如果我们正在训练一个模型来预测贷款违约风险，可能会将每个申请人与一个向量相关联，其分量与其收入、工作年限、过往违约次数和其他因素相对应。\n",
    "如果我们正在研究医院患者可能面临的心脏病发作风险，可能会用一个向量来表示每个患者，其分量为最近的生命体征、胆固醇水平、每天运动时间等。\n",
    "在数学表示法中，向量通常记为粗体、小写的符号，如 $\\mathbf{x}$、$\\mathbf{y}$和$\\mathbf{z})$）。\n",
    "人们通过一维张量表示向量，而张量可以具有任意长度。"
   ]
  },
  {
   "cell_type": "code",
   "execution_count": 2,
   "id": "c993f620",
   "metadata": {
    "execution": {
     "iopub.execute_input": "2022-12-07T16:49:34.326689Z",
     "iopub.status.busy": "2022-12-07T16:49:34.325804Z",
     "iopub.status.idle": "2022-12-07T16:49:34.331693Z",
     "shell.execute_reply": "2022-12-07T16:49:34.330962Z"
    },
    "origin_pos": 7,
    "tab": [
     "pytorch"
    ],
    "ExecuteTime": {
     "end_time": "2023-06-28T12:52:13.642852Z",
     "start_time": "2023-06-28T12:52:13.626591Z"
    }
   },
   "outputs": [
    {
     "data": {
      "text/plain": "tensor([0, 1, 2, 3])"
     },
     "execution_count": 2,
     "metadata": {},
     "output_type": "execute_result"
    }
   ],
   "source": [
    "x = torch.arange(4)\n",
    "x"
   ]
  },
  {
   "cell_type": "markdown",
   "id": "488a92c7",
   "metadata": {
    "origin_pos": 10
   },
   "source": [
    "我们用下标来引用向量的任一元素，例如，可以通过 $x_i$ 来引用第 $i$ 个元素。\n",
    "大量文献认为列向量是向量的默认方向，在本文中也是如此。\n",
    "在代码中，我们通过张量的索引来访问任一元素)。"
   ]
  },
  {
   "cell_type": "code",
   "execution_count": 3,
   "id": "e6fd7ba7",
   "metadata": {
    "execution": {
     "iopub.execute_input": "2022-12-07T16:49:34.335049Z",
     "iopub.status.busy": "2022-12-07T16:49:34.334579Z",
     "iopub.status.idle": "2022-12-07T16:49:34.340161Z",
     "shell.execute_reply": "2022-12-07T16:49:34.339403Z"
    },
    "origin_pos": 12,
    "tab": [
     "pytorch"
    ],
    "ExecuteTime": {
     "end_time": "2023-06-28T12:53:53.185561Z",
     "start_time": "2023-06-28T12:53:53.170278Z"
    }
   },
   "outputs": [
    {
     "data": {
      "text/plain": "tensor(3)"
     },
     "execution_count": 3,
     "metadata": {},
     "output_type": "execute_result"
    }
   ],
   "source": [
    "x[3]"
   ]
  },
  {
   "cell_type": "markdown",
   "id": "387b5d1f",
   "metadata": {
    "origin_pos": 15
   },
   "source": [
    "### 长度、维度和形状\n",
    "\n",
    "向量只是一个数字数组，就像每个数组都有一个长度一样，每个向量也是如此。\n",
    "在数学表示法中，如果我们想说一个向量 $\\mathbf{x}$ 由 $n$ 个实值标量组成，可以将其表示为 $\\mathbf{x}\\in\\mathbb{R}^n$。\n",
    "向量的长度通常称为向量的维度（dimension），与普通的 Python 数组一样，可以通过调用 Python 的内置 `len()` 来访问张量的长度。"
   ]
  },
  {
   "cell_type": "code",
   "execution_count": 4,
   "id": "8f60ef45",
   "metadata": {
    "execution": {
     "iopub.execute_input": "2022-12-07T16:49:34.343613Z",
     "iopub.status.busy": "2022-12-07T16:49:34.343159Z",
     "iopub.status.idle": "2022-12-07T16:49:34.348385Z",
     "shell.execute_reply": "2022-12-07T16:49:34.347571Z"
    },
    "origin_pos": 17,
    "tab": [
     "pytorch"
    ],
    "ExecuteTime": {
     "end_time": "2023-06-28T12:55:08.322124Z",
     "start_time": "2023-06-28T12:55:08.308704Z"
    }
   },
   "outputs": [
    {
     "data": {
      "text/plain": "4"
     },
     "execution_count": 4,
     "metadata": {},
     "output_type": "execute_result"
    }
   ],
   "source": [
    "len(x)"
   ]
  },
  {
   "cell_type": "markdown",
   "id": "4bfaab81",
   "metadata": {
    "origin_pos": 20
   },
   "source": [
    "当用张量表示一个向量（只有一个轴）时，也可以通过 `.shape` 属性访问向量的长度。\n",
    "形状（shape）是一个元素组，列出了张量沿每个轴的长度（维数）。"
   ]
  },
  {
   "cell_type": "code",
   "execution_count": 5,
   "id": "68936fe1",
   "metadata": {
    "execution": {
     "iopub.execute_input": "2022-12-07T16:49:34.353277Z",
     "iopub.status.busy": "2022-12-07T16:49:34.352830Z",
     "iopub.status.idle": "2022-12-07T16:49:34.357906Z",
     "shell.execute_reply": "2022-12-07T16:49:34.357134Z"
    },
    "origin_pos": 22,
    "tab": [
     "pytorch"
    ],
    "ExecuteTime": {
     "end_time": "2023-06-28T12:55:34.942506Z",
     "start_time": "2023-06-28T12:55:34.925822Z"
    }
   },
   "outputs": [
    {
     "data": {
      "text/plain": "torch.Size([4])"
     },
     "execution_count": 5,
     "metadata": {},
     "output_type": "execute_result"
    }
   ],
   "source": [
    "x.shape"
   ]
  },
  {
   "cell_type": "markdown",
   "id": "13c11979",
   "metadata": {
    "origin_pos": 25
   },
   "source": [
    "## 矩阵\n",
    "\n",
    "正如向量将标量从零阶推广到一阶，矩阵将向量从一阶推广到二阶。\n",
    "矩阵，我们通常用粗体、大写字母来表示，例如，$\\mathbf{X}$、$\\mathbf{Y}$ 和 $\\mathbf{Z}$），在代码中表示为具有两个轴的张量。\n",
    "\n",
    "数学表示法使用$\\mathbf{A} \\in \\mathbb{R}^{m \\times n}$ 来表示矩阵 $\\mathbf{A}$，其由 $m$ 行和 $n$ 列的实值标量组成。\n",
    "我们可以将任意矩阵$\\mathbf{A} \\in \\mathbb{R}^{m \\times n}$视为一个表格，其中每个元素$a_{ij}$属于第$i$行第$j$列：\n",
    "\n",
    "$$\\mathbf{A}=\\begin{bmatrix} a_{11} & a_{12} & \\cdots & a_{1n} \\\\ a_{21} & a_{22} & \\cdots & a_{2n} \\\\ \\vdots & \\vdots & \\ddots & \\vdots \\\\ a_{m1} & a_{m2} & \\cdots & a_{mn} \\\\ \\end{bmatrix}.$$\n",
    "\n",
    "对于任意 $\\mathbf{A} \\in \\mathbb{R}^{m \\times n}$，$\\mathbf{A}$ 的形状是（$m$,$n$）或 $m \\times n$。\n",
    "当调用函数来实例化张量时，我们可以通过指定两个分量 $m$ 和 $n$ 来创建一个形状为 $m \\times n$ 的矩阵。"
   ]
  },
  {
   "cell_type": "code",
   "execution_count": 6,
   "id": "3b0271e8",
   "metadata": {
    "execution": {
     "iopub.execute_input": "2022-12-07T16:49:34.363949Z",
     "iopub.status.busy": "2022-12-07T16:49:34.363344Z",
     "iopub.status.idle": "2022-12-07T16:49:34.369465Z",
     "shell.execute_reply": "2022-12-07T16:49:34.368686Z"
    },
    "origin_pos": 27,
    "tab": [
     "pytorch"
    ],
    "ExecuteTime": {
     "end_time": "2023-06-28T12:57:32.214530Z",
     "start_time": "2023-06-28T12:57:32.200523Z"
    }
   },
   "outputs": [
    {
     "data": {
      "text/plain": "tensor([[ 0,  1,  2,  3],\n        [ 4,  5,  6,  7],\n        [ 8,  9, 10, 11],\n        [12, 13, 14, 15],\n        [16, 17, 18, 19]])"
     },
     "execution_count": 6,
     "metadata": {},
     "output_type": "execute_result"
    }
   ],
   "source": [
    "A = torch.arange(20).reshape(5, 4)\n",
    "A"
   ]
  },
  {
   "cell_type": "markdown",
   "id": "c1e1ba50",
   "metadata": {
    "origin_pos": 30
   },
   "source": [
    "我们可以通过行索引（$i$）和列索引（$j$）来访问矩阵中的标量元素$a_{ij}$，例如 $[\\mathbf{A}]_{ij}$。\n",
    "为了表示起来简单，只有在必要时才会将逗号插入到单独的索引中，例如 $a_{2,3j}$ 和 $[\\mathbf{A}]_{2i-1,3}$。"
   ]
  },
  {
   "cell_type": "markdown",
   "source": [
    "### 转置\n",
    "当我们交换矩阵的行和列时，结果称为矩阵的转置（transpose）。\n",
    "通常用$\\mathbf{a}^\\top$来表示矩阵的转置，如果$\\mathbf{B}=\\mathbf{A}^\\top$，\n",
    "则对于任意$i$和$j$，都有$b_{ij}=a_{ji}$。\n",
    "对于之前的举证，其转置是一个形状为$n \\times m$的矩阵：\n",
    "\n",
    "$$\n",
    "\\mathbf{A}^\\top =\n",
    "\\begin{bmatrix}\n",
    "    a_{11} & a_{21} & \\dots  & a_{m1} \\\\\n",
    "    a_{12} & a_{22} & \\dots  & a_{m2} \\\\\n",
    "    \\vdots & \\vdots & \\ddots  & \\vdots \\\\\n",
    "    a_{1n} & a_{2n} & \\dots  & a_{mn}\n",
    "\\end{bmatrix}.\n",
    "$$"
   ],
   "metadata": {
    "collapsed": false
   }
  },
  {
   "cell_type": "code",
   "execution_count": 8,
   "id": "1a1619e7",
   "metadata": {
    "execution": {
     "iopub.execute_input": "2022-12-07T16:49:34.374581Z",
     "iopub.status.busy": "2022-12-07T16:49:34.373999Z",
     "iopub.status.idle": "2022-12-07T16:49:34.379696Z",
     "shell.execute_reply": "2022-12-07T16:49:34.378939Z"
    },
    "origin_pos": 32,
    "tab": [
     "pytorch"
    ],
    "ExecuteTime": {
     "end_time": "2023-06-28T13:00:43.738224Z",
     "start_time": "2023-06-28T13:00:43.731951Z"
    }
   },
   "outputs": [
    {
     "data": {
      "text/plain": "tensor([[ 0,  4,  8, 12, 16],\n        [ 1,  5,  9, 13, 17],\n        [ 2,  6, 10, 14, 18],\n        [ 3,  7, 11, 15, 19]])"
     },
     "execution_count": 8,
     "metadata": {},
     "output_type": "execute_result"
    }
   ],
   "source": [
    "A.T"
   ]
  },
  {
   "cell_type": "markdown",
   "id": "994307c0",
   "metadata": {
    "origin_pos": 35
   },
   "source": [
    "### 对称矩阵\n",
    "作为方阵的一种特殊类型，对称矩阵（symmetric matrix）$\\mathbf{A}$ ，其等于其转置：$\\mathbf{A} = \\mathbf{A}^\\top$。"
   ]
  },
  {
   "cell_type": "code",
   "execution_count": 9,
   "id": "49554f58",
   "metadata": {
    "execution": {
     "iopub.execute_input": "2022-12-07T16:49:34.385383Z",
     "iopub.status.busy": "2022-12-07T16:49:34.384746Z",
     "iopub.status.idle": "2022-12-07T16:49:34.391063Z",
     "shell.execute_reply": "2022-12-07T16:49:34.390290Z"
    },
    "origin_pos": 37,
    "tab": [
     "pytorch"
    ],
    "ExecuteTime": {
     "end_time": "2023-06-28T13:01:52.496852Z",
     "start_time": "2023-06-28T13:01:52.482251Z"
    }
   },
   "outputs": [
    {
     "data": {
      "text/plain": "tensor([[1, 2, 3],\n        [2, 0, 4],\n        [3, 4, 5]])"
     },
     "execution_count": 9,
     "metadata": {},
     "output_type": "execute_result"
    }
   ],
   "source": [
    "B = torch.tensor([[1, 2, 3], [2, 0, 4], [3, 4, 5]])\n",
    "B"
   ]
  },
  {
   "cell_type": "markdown",
   "id": "7f039ae5",
   "metadata": {
    "origin_pos": 40
   },
   "source": [
    "现在我们将`B`与它的转置进行比较。"
   ]
  },
  {
   "cell_type": "code",
   "execution_count": 10,
   "id": "29a3fe08",
   "metadata": {
    "execution": {
     "iopub.execute_input": "2022-12-07T16:49:34.396525Z",
     "iopub.status.busy": "2022-12-07T16:49:34.395968Z",
     "iopub.status.idle": "2022-12-07T16:49:34.401470Z",
     "shell.execute_reply": "2022-12-07T16:49:34.400734Z"
    },
    "origin_pos": 42,
    "tab": [
     "pytorch"
    ],
    "ExecuteTime": {
     "end_time": "2023-06-28T13:02:07.720179Z",
     "start_time": "2023-06-28T13:02:07.701003Z"
    }
   },
   "outputs": [
    {
     "data": {
      "text/plain": "tensor([[True, True, True],\n        [True, True, True],\n        [True, True, True]])"
     },
     "execution_count": 10,
     "metadata": {},
     "output_type": "execute_result"
    }
   ],
   "source": [
    "B == B.T"
   ]
  },
  {
   "cell_type": "markdown",
   "id": "8495683f",
   "metadata": {
    "origin_pos": 45
   },
   "source": [
    "## 张量\n",
    "\n",
    "就像向量是标量的推广，矩阵是向量的推广一样，我们可以构建具有更多轴的数据结构。\n",
    "张量是描述具有任意数量轴的 $n$ 维数组的通用方法。\n",
    "例如，向量是一阶张量，矩阵是二阶张量。\n",
    "当我们开始处理图像时，张量将变得更加重要，图像以$n$维数组形式出现，其中 3 个轴对应于高度、宽度，以及一个通道（channel）轴，用于表示颜色通道（红色、绿色和蓝色）。"
   ]
  },
  {
   "cell_type": "code",
   "execution_count": 11,
   "id": "6026dc3e",
   "metadata": {
    "execution": {
     "iopub.execute_input": "2022-12-07T16:49:34.406847Z",
     "iopub.status.busy": "2022-12-07T16:49:34.406292Z",
     "iopub.status.idle": "2022-12-07T16:49:34.412252Z",
     "shell.execute_reply": "2022-12-07T16:49:34.411463Z"
    },
    "origin_pos": 47,
    "tab": [
     "pytorch"
    ],
    "ExecuteTime": {
     "end_time": "2023-06-28T13:05:23.222396Z",
     "start_time": "2023-06-28T13:05:23.207136Z"
    }
   },
   "outputs": [
    {
     "data": {
      "text/plain": "tensor([[[ 0,  1,  2,  3],\n         [ 4,  5,  6,  7],\n         [ 8,  9, 10, 11]],\n\n        [[12, 13, 14, 15],\n         [16, 17, 18, 19],\n         [20, 21, 22, 23]]])"
     },
     "execution_count": 11,
     "metadata": {},
     "output_type": "execute_result"
    }
   ],
   "source": [
    "X = torch.arange(24).reshape(2, 3, 4)\n",
    "X"
   ]
  },
  {
   "cell_type": "markdown",
   "id": "5660a911",
   "metadata": {
    "origin_pos": 50
   },
   "source": [
    "### 加法\n",
    "\n",
    "标量、向量、矩阵和任意数量轴的张量有一些实用的属性，例如，从按元素操作的定义中可以注意到，任何按元素的一元运算都不会改变其操作数的形状。\n",
    "同样，给定具有相同形状的任意两个张量，任何按元素二元运算的结果都将是相同形状的张量。例如，将两个相同形状的矩阵相加，会在这两个矩阵上执行元素加法。"
   ]
  },
  {
   "cell_type": "code",
   "execution_count": 12,
   "id": "daf13e51",
   "metadata": {
    "execution": {
     "iopub.execute_input": "2022-12-07T16:49:34.416832Z",
     "iopub.status.busy": "2022-12-07T16:49:34.416295Z",
     "iopub.status.idle": "2022-12-07T16:49:34.423678Z",
     "shell.execute_reply": "2022-12-07T16:49:34.422913Z"
    },
    "origin_pos": 52,
    "tab": [
     "pytorch"
    ],
    "ExecuteTime": {
     "end_time": "2023-06-28T13:06:21.634032Z",
     "start_time": "2023-06-28T13:06:21.620560Z"
    }
   },
   "outputs": [
    {
     "data": {
      "text/plain": "(tensor([[ 0.,  1.,  2.,  3.],\n         [ 4.,  5.,  6.,  7.],\n         [ 8.,  9., 10., 11.],\n         [12., 13., 14., 15.],\n         [16., 17., 18., 19.]]),\n tensor([[ 0.,  2.,  4.,  6.],\n         [ 8., 10., 12., 14.],\n         [16., 18., 20., 22.],\n         [24., 26., 28., 30.],\n         [32., 34., 36., 38.]]))"
     },
     "execution_count": 12,
     "metadata": {},
     "output_type": "execute_result"
    }
   ],
   "source": [
    "A = torch.arange(20, dtype=torch.float32).reshape(5, 4)\n",
    "B = A.clone()  # 通过分配新内存，将A的一个副本分配给B\n",
    "A, A + B"
   ]
  },
  {
   "cell_type": "markdown",
   "id": "9d49f69f",
   "metadata": {
    "origin_pos": 55
   },
   "source": [
    "### 乘法\n",
    "两个矩阵的按元素乘法称为Hadamard积（Hadamard product）（数学符号$\\odot$）。\n",
    "矩阵$\\mathbf{A}$和$\\mathbf{B}$的Hadamard积为：\n",
    "$$\n",
    "\\mathbf{A} \\odot \\mathbf{B} =\n",
    "\\begin{bmatrix}\n",
    "    a_{11}  b_{11} & a_{12}  b_{12} & \\dots  & a_{1n}  b_{1n} \\\\\n",
    "    a_{21}  b_{21} & a_{22}  b_{22} & \\dots  & a_{2n}  b_{2n} \\\\\n",
    "    \\vdots & \\vdots & \\ddots & \\vdots \\\\\n",
    "    a_{m1}  b_{m1} & a_{m2}  b_{m2} & \\dots  & a_{mn}  b_{mn}\n",
    "\\end{bmatrix}\n",
    "$$\n"
   ]
  },
  {
   "cell_type": "code",
   "execution_count": 13,
   "id": "3fcf4677",
   "metadata": {
    "execution": {
     "iopub.execute_input": "2022-12-07T16:49:34.427273Z",
     "iopub.status.busy": "2022-12-07T16:49:34.426684Z",
     "iopub.status.idle": "2022-12-07T16:49:34.432875Z",
     "shell.execute_reply": "2022-12-07T16:49:34.432097Z"
    },
    "origin_pos": 57,
    "tab": [
     "pytorch"
    ],
    "ExecuteTime": {
     "end_time": "2023-06-28T13:08:33.541787Z",
     "start_time": "2023-06-28T13:08:33.524697Z"
    }
   },
   "outputs": [
    {
     "data": {
      "text/plain": "tensor([[  0.,   1.,   4.,   9.],\n        [ 16.,  25.,  36.,  49.],\n        [ 64.,  81., 100., 121.],\n        [144., 169., 196., 225.],\n        [256., 289., 324., 361.]])"
     },
     "execution_count": 13,
     "metadata": {},
     "output_type": "execute_result"
    }
   ],
   "source": [
    "A * B"
   ]
  },
  {
   "cell_type": "markdown",
   "id": "daa11957",
   "metadata": {
    "origin_pos": 60
   },
   "source": [
    "将张量乘以或加上一个标量不会改变张量的形状，其中张量的每个元素都将与标量相加或相乘。"
   ]
  },
  {
   "cell_type": "code",
   "execution_count": 14,
   "id": "f4642bf4",
   "metadata": {
    "execution": {
     "iopub.execute_input": "2022-12-07T16:49:34.436554Z",
     "iopub.status.busy": "2022-12-07T16:49:34.435975Z",
     "iopub.status.idle": "2022-12-07T16:49:34.442297Z",
     "shell.execute_reply": "2022-12-07T16:49:34.441534Z"
    },
    "origin_pos": 62,
    "tab": [
     "pytorch"
    ],
    "ExecuteTime": {
     "end_time": "2023-06-28T13:08:51.813351Z",
     "start_time": "2023-06-28T13:08:51.797666Z"
    }
   },
   "outputs": [
    {
     "data": {
      "text/plain": "(tensor([[[ 2,  3,  4,  5],\n          [ 6,  7,  8,  9],\n          [10, 11, 12, 13]],\n \n         [[14, 15, 16, 17],\n          [18, 19, 20, 21],\n          [22, 23, 24, 25]]]),\n torch.Size([2, 3, 4]))"
     },
     "execution_count": 14,
     "metadata": {},
     "output_type": "execute_result"
    }
   ],
   "source": [
    "a = 2\n",
    "X = torch.arange(24).reshape(2, 3, 4)\n",
    "a + X, (a * X).shape"
   ]
  },
  {
   "cell_type": "markdown",
   "id": "db5a27d6",
   "metadata": {
    "origin_pos": 65
   },
   "source": [
    "## 降维\n",
    "\n",
    "### sum()求和\n",
    "可以对任意张量进行的一个有用的操作是计算其元素的和，数学表示法使用 $\\sum$ 符号表示求和。\n",
    "为了表示长度为 $d$ 的向量中元素的总和，可以记为 $\\sum_{i=1}^dx_i$。"
   ]
  },
  {
   "cell_type": "code",
   "execution_count": 15,
   "id": "0f1dba19",
   "metadata": {
    "execution": {
     "iopub.execute_input": "2022-12-07T16:49:34.445873Z",
     "iopub.status.busy": "2022-12-07T16:49:34.445289Z",
     "iopub.status.idle": "2022-12-07T16:49:34.451676Z",
     "shell.execute_reply": "2022-12-07T16:49:34.450932Z"
    },
    "origin_pos": 67,
    "tab": [
     "pytorch"
    ],
    "ExecuteTime": {
     "end_time": "2023-06-28T13:10:38.939365Z",
     "start_time": "2023-06-28T13:10:38.920300Z"
    }
   },
   "outputs": [
    {
     "data": {
      "text/plain": "(tensor([0., 1., 2., 3.]), tensor(6.))"
     },
     "execution_count": 15,
     "metadata": {},
     "output_type": "execute_result"
    }
   ],
   "source": [
    "x = torch.arange(4, dtype=torch.float32)\n",
    "x, x.sum()"
   ]
  },
  {
   "cell_type": "code",
   "execution_count": 16,
   "id": "8cdcb2ff",
   "metadata": {
    "execution": {
     "iopub.execute_input": "2022-12-07T16:49:34.455101Z",
     "iopub.status.busy": "2022-12-07T16:49:34.454535Z",
     "iopub.status.idle": "2022-12-07T16:49:34.460146Z",
     "shell.execute_reply": "2022-12-07T16:49:34.459392Z"
    },
    "origin_pos": 72,
    "tab": [
     "pytorch"
    ],
    "ExecuteTime": {
     "end_time": "2023-06-28T13:11:18.312087Z",
     "start_time": "2023-06-28T13:11:18.296880Z"
    }
   },
   "outputs": [
    {
     "data": {
      "text/plain": "(torch.Size([5, 4]), tensor(190.))"
     },
     "execution_count": 16,
     "metadata": {},
     "output_type": "execute_result"
    }
   ],
   "source": [
    "A.shape, A.sum()"
   ]
  },
  {
   "cell_type": "markdown",
   "id": "8ce9665f",
   "metadata": {
    "origin_pos": 75
   },
   "source": [
    "默认情况下，调用 $sum()$ 会沿所有的轴降低张量的维度，使它变为一个标量。\n",
    "我们还可以指定张量沿哪一个轴来通过求和降低维度]。\n",
    "以矩阵为例，为了通过求和所有行的元素来降维（轴0），可以在调用函数时指定 `axis=0`。\n",
    "由于输入矩阵沿 0 轴降维以生成输出向量，因此输入轴 0 的维数在输出形状中消失。"
   ]
  },
  {
   "cell_type": "code",
   "execution_count": 17,
   "id": "6e8f71da",
   "metadata": {
    "execution": {
     "iopub.execute_input": "2022-12-07T16:49:34.463608Z",
     "iopub.status.busy": "2022-12-07T16:49:34.463028Z",
     "iopub.status.idle": "2022-12-07T16:49:34.468918Z",
     "shell.execute_reply": "2022-12-07T16:49:34.468151Z"
    },
    "origin_pos": 77,
    "tab": [
     "pytorch"
    ],
    "ExecuteTime": {
     "end_time": "2023-06-28T13:12:07.701325Z",
     "start_time": "2023-06-28T13:12:07.686941Z"
    }
   },
   "outputs": [
    {
     "data": {
      "text/plain": "(tensor([40., 45., 50., 55.]), torch.Size([4]))"
     },
     "execution_count": 17,
     "metadata": {},
     "output_type": "execute_result"
    }
   ],
   "source": [
    "A_sum_axis0 = A.sum(axis=0)\n",
    "A_sum_axis0, A_sum_axis0.shape"
   ]
  },
  {
   "cell_type": "markdown",
   "id": "01cf2bc6",
   "metadata": {
    "origin_pos": 80
   },
   "source": [
    "指定 `axis=1` 将通过汇总所有列的元素降维（轴1）。因此，输入轴1的维数在输出形状中消失。"
   ]
  },
  {
   "cell_type": "code",
   "execution_count": 18,
   "id": "e148213f",
   "metadata": {
    "execution": {
     "iopub.execute_input": "2022-12-07T16:49:34.472411Z",
     "iopub.status.busy": "2022-12-07T16:49:34.471822Z",
     "iopub.status.idle": "2022-12-07T16:49:34.477842Z",
     "shell.execute_reply": "2022-12-07T16:49:34.477046Z"
    },
    "origin_pos": 82,
    "tab": [
     "pytorch"
    ],
    "ExecuteTime": {
     "end_time": "2023-06-28T13:12:31.329123Z",
     "start_time": "2023-06-28T13:12:31.314035Z"
    }
   },
   "outputs": [
    {
     "data": {
      "text/plain": "(tensor([ 6., 22., 38., 54., 70.]), torch.Size([5]))"
     },
     "execution_count": 18,
     "metadata": {},
     "output_type": "execute_result"
    }
   ],
   "source": [
    "A_sum_axis1 = A.sum(axis=1)\n",
    "A_sum_axis1, A_sum_axis1.shape"
   ]
  },
  {
   "cell_type": "markdown",
   "id": "7e2740be",
   "metadata": {
    "origin_pos": 85
   },
   "source": [
    "沿着行和列对矩阵求和，等价于对矩阵的所有元素进行求和。"
   ]
  },
  {
   "cell_type": "code",
   "execution_count": 19,
   "id": "572a733a",
   "metadata": {
    "execution": {
     "iopub.execute_input": "2022-12-07T16:49:34.481047Z",
     "iopub.status.busy": "2022-12-07T16:49:34.480756Z",
     "iopub.status.idle": "2022-12-07T16:49:34.486930Z",
     "shell.execute_reply": "2022-12-07T16:49:34.486142Z"
    },
    "origin_pos": 87,
    "tab": [
     "pytorch"
    ],
    "ExecuteTime": {
     "end_time": "2023-06-28T13:12:41.105817Z",
     "start_time": "2023-06-28T13:12:41.091105Z"
    }
   },
   "outputs": [
    {
     "data": {
      "text/plain": "tensor(190.)"
     },
     "execution_count": 19,
     "metadata": {},
     "output_type": "execute_result"
    }
   ],
   "source": [
    "A.sum(axis=[0, 1])  # 结果和A.sum()相同"
   ]
  },
  {
   "cell_type": "markdown",
   "id": "f0fb6eaa",
   "metadata": {
    "origin_pos": 90
   },
   "source": [
    "### mean()平均值\n",
    "我们通过将总和除以元素总数来计算平均值。"
   ]
  },
  {
   "cell_type": "code",
   "execution_count": 20,
   "id": "72e50902",
   "metadata": {
    "execution": {
     "iopub.execute_input": "2022-12-07T16:49:34.490604Z",
     "iopub.status.busy": "2022-12-07T16:49:34.489990Z",
     "iopub.status.idle": "2022-12-07T16:49:34.496680Z",
     "shell.execute_reply": "2022-12-07T16:49:34.495883Z"
    },
    "origin_pos": 92,
    "tab": [
     "pytorch"
    ],
    "ExecuteTime": {
     "end_time": "2023-06-28T13:14:49.358666Z",
     "start_time": "2023-06-28T13:14:49.343585Z"
    }
   },
   "outputs": [
    {
     "data": {
      "text/plain": "(tensor(9.5000), tensor(9.5000))"
     },
     "execution_count": 20,
     "metadata": {},
     "output_type": "execute_result"
    }
   ],
   "source": [
    "A.mean(), A.sum() / A.numel()"
   ]
  },
  {
   "cell_type": "markdown",
   "id": "563b63d5",
   "metadata": {
    "origin_pos": 95
   },
   "source": [
    "同样，计算平均值的函数也可以沿指定轴降低张量的维度。"
   ]
  },
  {
   "cell_type": "code",
   "execution_count": 21,
   "id": "0d826cfd",
   "metadata": {
    "execution": {
     "iopub.execute_input": "2022-12-07T16:49:34.500565Z",
     "iopub.status.busy": "2022-12-07T16:49:34.499849Z",
     "iopub.status.idle": "2022-12-07T16:49:34.506752Z",
     "shell.execute_reply": "2022-12-07T16:49:34.505915Z"
    },
    "origin_pos": 97,
    "tab": [
     "pytorch"
    ],
    "ExecuteTime": {
     "end_time": "2023-06-28T13:15:00.718092Z",
     "start_time": "2023-06-28T13:15:00.703806Z"
    }
   },
   "outputs": [
    {
     "data": {
      "text/plain": "(tensor([ 8.,  9., 10., 11.]), tensor([ 8.,  9., 10., 11.]))"
     },
     "execution_count": 21,
     "metadata": {},
     "output_type": "execute_result"
    }
   ],
   "source": [
    "A.mean(axis=0), A.sum(axis=0) / A.shape[0]"
   ]
  },
  {
   "cell_type": "markdown",
   "id": "3a86e461",
   "metadata": {
    "origin_pos": 110
   },
   "source": [
    "### cumsum()累积总和\n",
    "如果我们想沿某个轴计算 `A` 元素的累积总和，比如`axis=0`（按行计算），可以调用`cumsum`函数。"
   ]
  },
  {
   "cell_type": "code",
   "execution_count": 22,
   "id": "ab93a7d7",
   "metadata": {
    "execution": {
     "iopub.execute_input": "2022-12-07T16:49:34.528341Z",
     "iopub.status.busy": "2022-12-07T16:49:34.527777Z",
     "iopub.status.idle": "2022-12-07T16:49:34.533740Z",
     "shell.execute_reply": "2022-12-07T16:49:34.532986Z"
    },
    "origin_pos": 112,
    "tab": [
     "pytorch"
    ],
    "ExecuteTime": {
     "end_time": "2023-06-28T13:17:24.325080Z",
     "start_time": "2023-06-28T13:17:24.312351Z"
    }
   },
   "outputs": [
    {
     "data": {
      "text/plain": "tensor([[ 0.,  1.,  2.,  3.],\n        [ 4.,  6.,  8., 10.],\n        [12., 15., 18., 21.],\n        [24., 28., 32., 36.],\n        [40., 45., 50., 55.]])"
     },
     "execution_count": 22,
     "metadata": {},
     "output_type": "execute_result"
    }
   ],
   "source": [
    "A.cumsum(axis=0)"
   ]
  },
  {
   "cell_type": "markdown",
   "id": "a9223197",
   "metadata": {
    "origin_pos": 115
   },
   "source": [
    "## 点积（Dot Product）\n",
    "\n",
    "给定两个向量$\\mathbf{x},\\mathbf{y}\\in\\mathbb{R}^d$，它们的*点积*（dot product）$\\mathbf{x}^\\top\\mathbf{y}$ 是相同位置的按元素乘积的和：$\\mathbf{x}^\\top \\mathbf{y} = \\sum_{i=1}^{d} x_i y_i$。\n"
   ]
  },
  {
   "cell_type": "code",
   "execution_count": 23,
   "id": "f2290d13",
   "metadata": {
    "execution": {
     "iopub.execute_input": "2022-12-07T16:49:34.537131Z",
     "iopub.status.busy": "2022-12-07T16:49:34.536609Z",
     "iopub.status.idle": "2022-12-07T16:49:34.543465Z",
     "shell.execute_reply": "2022-12-07T16:49:34.542632Z"
    },
    "origin_pos": 117,
    "tab": [
     "pytorch"
    ],
    "ExecuteTime": {
     "end_time": "2023-06-28T13:18:10.608013Z",
     "start_time": "2023-06-28T13:18:10.596830Z"
    }
   },
   "outputs": [
    {
     "data": {
      "text/plain": "(tensor([0., 1., 2., 3.]), tensor([1., 1., 1., 1.]), tensor(6.))"
     },
     "execution_count": 23,
     "metadata": {},
     "output_type": "execute_result"
    }
   ],
   "source": [
    "y = torch.ones(4, dtype = torch.float32)\n",
    "x, y, torch.dot(x, y)"
   ]
  },
  {
   "cell_type": "markdown",
   "id": "53b30bfe",
   "metadata": {
    "origin_pos": 120
   },
   "source": [
    "我们可以通过执行按元素乘法，然后进行求和来表示两个向量的点积："
   ]
  },
  {
   "cell_type": "code",
   "execution_count": 24,
   "id": "f32e6b06",
   "metadata": {
    "execution": {
     "iopub.execute_input": "2022-12-07T16:49:34.547022Z",
     "iopub.status.busy": "2022-12-07T16:49:34.546435Z",
     "iopub.status.idle": "2022-12-07T16:49:34.552564Z",
     "shell.execute_reply": "2022-12-07T16:49:34.551736Z"
    },
    "origin_pos": 122,
    "tab": [
     "pytorch"
    ],
    "ExecuteTime": {
     "end_time": "2023-06-28T13:18:45.064568Z",
     "start_time": "2023-06-28T13:18:45.046419Z"
    }
   },
   "outputs": [
    {
     "data": {
      "text/plain": "tensor(6.)"
     },
     "execution_count": 24,
     "metadata": {},
     "output_type": "execute_result"
    }
   ],
   "source": [
    "torch.sum(x * y)"
   ]
  },
  {
   "cell_type": "markdown",
   "id": "8a4c6803",
   "metadata": {
    "origin_pos": 125
   },
   "source": [
    "## mv() 矩阵-向量积\n",
    "\n",
    "矩阵-向量积（matrix-vector product），在代码中使用 `mv()` 函数。\n",
    "当我们为矩阵 `A` 和向量 `x` 调用 `torch.mv(A, x)` 时，会执行矩阵-向量积。\n",
    "注意，`A`的列维数（沿轴1的长度）必须与`x`的维数（其长度）相同。\n"
   ]
  },
  {
   "cell_type": "code",
   "execution_count": 25,
   "id": "0b2aed0d",
   "metadata": {
    "execution": {
     "iopub.execute_input": "2022-12-07T16:49:34.556331Z",
     "iopub.status.busy": "2022-12-07T16:49:34.555742Z",
     "iopub.status.idle": "2022-12-07T16:49:34.561968Z",
     "shell.execute_reply": "2022-12-07T16:49:34.561191Z"
    },
    "origin_pos": 130,
    "tab": [
     "pytorch"
    ],
    "ExecuteTime": {
     "end_time": "2023-06-28T13:21:06.305060Z",
     "start_time": "2023-06-28T13:21:06.290914Z"
    }
   },
   "outputs": [
    {
     "data": {
      "text/plain": "(torch.Size([5, 4]), torch.Size([4]), tensor([ 14.,  38.,  62.,  86., 110.]))"
     },
     "execution_count": 25,
     "metadata": {},
     "output_type": "execute_result"
    }
   ],
   "source": [
    "A.shape, x.shape, torch.mv(A, x)"
   ]
  },
  {
   "cell_type": "markdown",
   "id": "c5e3a66d",
   "metadata": {
    "origin_pos": 133
   },
   "source": [
    "## mm() 矩阵-矩阵乘法\n",
    "\n",
    "假设有两个矩阵$\\mathbf{A} \\in \\mathbb{R}^{n \\times k}$和$\\mathbf{B} \\in \\mathbb{R}^{k \\times m}$：\n",
    "\n",
    "$$\\mathbf{A}=\\begin{bmatrix}\n",
    " a_{11} & a_{12} & \\cdots & a_{1k} \\\\\n",
    " a_{21} & a_{22} & \\cdots & a_{2k} \\\\\n",
    "\\vdots & \\vdots & \\ddots & \\vdots \\\\\n",
    " a_{n1} & a_{n2} & \\cdots & a_{nk} \\\\\n",
    "\\end{bmatrix},\\quad\n",
    "\\mathbf{B}=\\begin{bmatrix}\n",
    " b_{11} & b_{12} & \\cdots & b_{1m} \\\\\n",
    " b_{21} & b_{22} & \\cdots & b_{2m} \\\\\n",
    "\\vdots & \\vdots & \\ddots & \\vdots \\\\\n",
    " b_{k1} & b_{k2} & \\cdots & b_{km} \\\\\n",
    "\\end{bmatrix}.$$\n",
    "\n",
    "我们可以将矩阵-矩阵乘法 $\\mathbf{AB}$ 看作简单地执行 $m$ 次矩阵-向量积，并将结果拼接在一起，形成一个 $n \\times m$ 矩阵。\n",
    "在下面的代码中，我们在`A`和`B`上执行矩阵乘法，这里的`A`是一个5行4列的矩阵，`B`是一个4行3列的矩阵。两者相乘后，我们得到了一个5行3列的矩阵。\n"
   ]
  },
  {
   "cell_type": "code",
   "execution_count": 26,
   "id": "763fbcb9",
   "metadata": {
    "execution": {
     "iopub.execute_input": "2022-12-07T16:49:34.565474Z",
     "iopub.status.busy": "2022-12-07T16:49:34.564932Z",
     "iopub.status.idle": "2022-12-07T16:49:34.571397Z",
     "shell.execute_reply": "2022-12-07T16:49:34.570560Z"
    },
    "origin_pos": 135,
    "tab": [
     "pytorch"
    ],
    "ExecuteTime": {
     "end_time": "2023-06-28T13:23:23.331443Z",
     "start_time": "2023-06-28T13:23:23.298828Z"
    }
   },
   "outputs": [
    {
     "data": {
      "text/plain": "tensor([[ 6.,  6.,  6.],\n        [22., 22., 22.],\n        [38., 38., 38.],\n        [54., 54., 54.],\n        [70., 70., 70.]])"
     },
     "execution_count": 26,
     "metadata": {},
     "output_type": "execute_result"
    }
   ],
   "source": [
    "B = torch.ones(4, 3)\n",
    "torch.mm(A, B)"
   ]
  },
  {
   "cell_type": "markdown",
   "id": "f778e455",
   "metadata": {
    "origin_pos": 138
   },
   "source": [
    "## 范数\n",
    "\n",
    "线性代数中最有用的一些运算符是范数（norm），用来表示一个向量有多大。\n",
    "范数听起来很像距离的度量，事实上，欧几里得距离是一个 $L_2$ 范数：\n",
    "假设$n$维向量$\\mathbf{x}$中的元素是$x_1,\\ldots,x_n$，其 $L_2$ 范数是向量元素平方和的平方根：$$\\|\\mathbf{x}\\|_2 = \\sqrt{\\sum_{i=1}^n x_i^2},$$\n",
    "\n",
    "其中，在$L_2$范数中常常省略下标$2$，也就是说$\\|\\mathbf{x}\\|$等同于$\\|\\mathbf{x}\\|_2$。"
   ]
  },
  {
   "cell_type": "code",
   "execution_count": 27,
   "id": "0d07478e",
   "metadata": {
    "execution": {
     "iopub.execute_input": "2022-12-07T16:49:34.575336Z",
     "iopub.status.busy": "2022-12-07T16:49:34.574783Z",
     "iopub.status.idle": "2022-12-07T16:49:34.580907Z",
     "shell.execute_reply": "2022-12-07T16:49:34.580098Z"
    },
    "origin_pos": 140,
    "tab": [
     "pytorch"
    ],
    "ExecuteTime": {
     "end_time": "2023-06-28T13:26:14.555375Z",
     "start_time": "2023-06-28T13:26:14.546925Z"
    }
   },
   "outputs": [
    {
     "data": {
      "text/plain": "tensor(5.)"
     },
     "execution_count": 27,
     "metadata": {},
     "output_type": "execute_result"
    }
   ],
   "source": [
    "u = torch.tensor([3.0, -4.0])\n",
    "torch.norm(u)"
   ]
  },
  {
   "cell_type": "markdown",
   "id": "7df511e8",
   "metadata": {
    "origin_pos": 143
   },
   "source": [
    "深度学习中更经常地使用$L_2$范数的平方，也会经常遇到 $L_1$ 范数，它表示为向量元素的绝对值之和：$$\\|\\mathbf{x}\\|_1 = \\sum_{i=1}^n \\left|x_i \\right|.$$\n",
    "与$L_2$范数相比，$L_1$范数受异常值的影响较小。\n",
    "为了计算$L_1$范数，我们将绝对值函数和按元素求和组合起来。"
   ]
  },
  {
   "cell_type": "code",
   "execution_count": 28,
   "id": "3230c3a4",
   "metadata": {
    "execution": {
     "iopub.execute_input": "2022-12-07T16:49:34.584423Z",
     "iopub.status.busy": "2022-12-07T16:49:34.583891Z",
     "iopub.status.idle": "2022-12-07T16:49:34.589927Z",
     "shell.execute_reply": "2022-12-07T16:49:34.589143Z"
    },
    "origin_pos": 145,
    "tab": [
     "pytorch"
    ],
    "ExecuteTime": {
     "end_time": "2023-06-28T13:26:48.323433Z",
     "start_time": "2023-06-28T13:26:48.312023Z"
    }
   },
   "outputs": [
    {
     "data": {
      "text/plain": "tensor(7.)"
     },
     "execution_count": 28,
     "metadata": {},
     "output_type": "execute_result"
    }
   ],
   "source": [
    "torch.abs(u).sum()"
   ]
  },
  {
   "cell_type": "code",
   "execution_count": 29,
   "id": "d70feaaa",
   "metadata": {
    "execution": {
     "iopub.execute_input": "2022-12-07T16:49:34.593416Z",
     "iopub.status.busy": "2022-12-07T16:49:34.592912Z",
     "iopub.status.idle": "2022-12-07T16:49:34.599045Z",
     "shell.execute_reply": "2022-12-07T16:49:34.598210Z"
    },
    "origin_pos": 150,
    "tab": [
     "pytorch"
    ],
    "ExecuteTime": {
     "end_time": "2023-06-28T13:27:40.505896Z",
     "start_time": "2023-06-28T13:27:40.492244Z"
    }
   },
   "outputs": [
    {
     "data": {
      "text/plain": "tensor(6.)"
     },
     "execution_count": 29,
     "metadata": {},
     "output_type": "execute_result"
    }
   ],
   "source": [
    "torch.norm(torch.ones((4, 9)))"
   ]
  }
 ],
 "metadata": {
  "language_info": {
   "name": "python"
  },
  "kernelspec": {
   "name": "python3",
   "language": "python",
   "display_name": "Python 3 (ipykernel)"
  }
 },
 "nbformat": 4,
 "nbformat_minor": 5
}
