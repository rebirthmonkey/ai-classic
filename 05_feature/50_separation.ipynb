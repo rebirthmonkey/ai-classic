{
 "cells": [
  {
   "cell_type": "markdown",
   "id": "focal-creator",
   "metadata": {},
   "source": [
    "# 数据分拆"
   ]
  },
  {
   "cell_type": "markdown",
   "id": "national-heading",
   "metadata": {},
   "source": [
    "## 留出法Hold-out\n",
    "使用前提：有足够的数据"
   ]
  },
  {
   "cell_type": "code",
   "execution_count": 1,
   "id": "bored-amsterdam",
   "metadata": {},
   "outputs": [
    {
     "name": "stdout",
     "output_type": "stream",
     "text": [
      "[[85 37]\n",
      " [83 87]\n",
      " [81  2]\n",
      " [48 60]\n",
      " [82 91]\n",
      " [59 14]\n",
      " [11 54]\n",
      " [81 85]\n",
      " [24 39]\n",
      " [44 91]]\n"
     ]
    }
   ],
   "source": [
    "%matplotlib inline\n",
    "import numpy as np\n",
    "import pandas as pd\n",
    "import matplotlib.pyplot as plt\n",
    "import seaborn as sns\n",
    "import os\n",
    "import sklearn.model_selection as ms\n",
    "\n",
    "X = np.random.randint(1, 100, 20).reshape(10, 2) # 生成的值在1-100中间，20个（reshape：分10组，每组2个）\n",
    "print(X)"
   ]
  },
  {
   "cell_type": "code",
   "execution_count": 2,
   "id": "cubic-little",
   "metadata": {},
   "outputs": [
    {
     "name": "stdout",
     "output_type": "stream",
     "text": [
      "train: [0 7 4 8 6 9 3] , test: [5 2 1]\n",
      "train: [0 2 5 9 4 3 1] , test: [8 7 6]\n",
      "train: [8 4 1 0 6 3 9] , test: [5 2 7]\n",
      "train: [5 7 3 8 9 4 1] , test: [0 6 2]\n",
      "train: [8 5 1 9 7 2 3] , test: [6 4 0]\n",
      "train: [8 9 2 0 3 1 6] , test: [4 7 5]\n",
      "train: [8 1 0 6 5 4 2] , test: [9 3 7]\n",
      "train: [2 1 5 0 4 9 3] , test: [6 8 7]\n",
      "train: [0 1 4 6 3 2 9] , test: [5 7 8]\n",
      "train: [1 0 8 2 6 9 5] , test: [7 3 4]\n"
     ]
    }
   ],
   "source": [
    "ss = ms.ShuffleSplit(n_splits=10, test_size=0.25)\n",
    "for train, test in ss.split(X):\n",
    "    print(f'train: {train} , test: {test}')"
   ]
  },
  {
   "cell_type": "markdown",
   "id": "economic-amsterdam",
   "metadata": {},
   "source": [
    "## K-fold"
   ]
  },
  {
   "cell_type": "code",
   "execution_count": 3,
   "id": "applicable-front",
   "metadata": {},
   "outputs": [
    {
     "name": "stdout",
     "output_type": "stream",
     "text": [
      "train: [2 3 4 5 6 7 8 9] , test: [0 1]\n",
      "train: [0 1 4 5 6 7 8 9] , test: [2 3]\n",
      "train: [0 1 2 3 6 7 8 9] , test: [4 5]\n",
      "train: [0 1 2 3 4 5 8 9] , test: [6 7]\n",
      "train: [0 1 2 3 4 5 6 7] , test: [8 9]\n"
     ]
    }
   ],
   "source": [
    "kf = ms.KFold(n_splits=5)\n",
    "for train, test in kf.split(X):\n",
    "    print(f'train: {train} , test: {test}')\n",
    "# sklearn.model_selectin.Kflod  # ngroups=k"
   ]
  }
 ],
 "metadata": {
  "interpreter": {
   "hash": "1fef96a86254b5b64b7294805a674893d583399788ea545149c5bfbe00efcc65"
  },
  "kernelspec": {
   "display_name": "Python 3",
   "language": "python",
   "name": "python3"
  },
  "language_info": {
   "codemirror_mode": {
    "name": "ipython",
    "version": 3
   },
   "file_extension": ".py",
   "mimetype": "text/x-python",
   "name": "python",
   "nbconvert_exporter": "python",
   "pygments_lexer": "ipython3",
   "version": "3.8.8"
  }
 },
 "nbformat": 4,
 "nbformat_minor": 5
}
