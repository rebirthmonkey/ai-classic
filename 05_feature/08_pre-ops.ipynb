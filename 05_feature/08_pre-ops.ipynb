{
 "cells": [
  {
   "cell_type": "markdown",
   "id": "5b45872a",
   "metadata": {
    "origin_pos": 0
   },
   "source": [
    "# 数据预处理\n",
    "\n",
    "为了能用深度学习来解决现实世界的问题，我们经常从预处理原始数据开始，\n",
    "在 Python 中常用的数据分析工具是 `pandas` 软件包。\n",
    "\n",
    "## 读取数据集\n",
    "举一个例子，首先创建一个人工数据集，并存储在 CSV 文件 `dataset/house_tiny.csv` 中。"
   ]
  },
  {
   "cell_type": "code",
   "execution_count": 3,
   "id": "5f716622",
   "metadata": {
    "execution": {
     "iopub.execute_input": "2022-12-07T16:43:11.961492Z",
     "iopub.status.busy": "2022-12-07T16:43:11.961161Z",
     "iopub.status.idle": "2022-12-07T16:43:11.971453Z",
     "shell.execute_reply": "2022-12-07T16:43:11.970593Z"
    },
    "origin_pos": 1,
    "tab": [
     "pytorch"
    ],
    "ExecuteTime": {
     "end_time": "2023-06-29T00:49:59.996497Z",
     "start_time": "2023-06-29T00:49:59.991620Z"
    }
   },
   "outputs": [],
   "source": [
    "import os\n",
    "\n",
    "# os.makedirs(os.path.join('..', 'dataset'), exist_ok=True)\n",
    "data_file = os.path.join('..', 'dataset', 'house_tiny.csv')\n",
    "with open(data_file, 'w') as f:\n",
    "    f.write('NumRooms,Alley,Price\\n')  # 列名\n",
    "    f.write('NA,Pave,127500\\n')  # 每行表示一个数据样本\n",
    "    f.write('2,NA,106000\\n')\n",
    "    f.write('4,NA,178100\\n')\n",
    "    f.write('NA,NA,140000\\n')"
   ]
  },
  {
   "cell_type": "markdown",
   "id": "0ac5af19",
   "metadata": {
    "origin_pos": 2
   },
   "source": [
    "要从创建的 CSV 文件中加载原始数据集，需要导入 `pandas` 包并调用 `read_csv` 函数。\n",
    "该数据集有四行三列。其中每行描述了房间数量（“NumRooms”）、巷子类型（“Alley”）和房屋价格（“Price”）。"
   ]
  },
  {
   "cell_type": "code",
   "execution_count": 4,
   "id": "924cf71d",
   "metadata": {
    "execution": {
     "iopub.execute_input": "2022-12-07T16:43:11.974577Z",
     "iopub.status.busy": "2022-12-07T16:43:11.974309Z",
     "iopub.status.idle": "2022-12-07T16:43:12.396965Z",
     "shell.execute_reply": "2022-12-07T16:43:12.396130Z"
    },
    "origin_pos": 3,
    "tab": [
     "pytorch"
    ],
    "ExecuteTime": {
     "end_time": "2023-06-29T00:51:11.520171Z",
     "start_time": "2023-06-29T00:51:10.980367Z"
    }
   },
   "outputs": [
    {
     "name": "stdout",
     "output_type": "stream",
     "text": [
      "   NumRooms Alley   Price\n",
      "0       NaN  Pave  127500\n",
      "1       2.0   NaN  106000\n",
      "2       4.0   NaN  178100\n",
      "3       NaN   NaN  140000\n"
     ]
    }
   ],
   "source": [
    "import pandas as pd\n",
    "\n",
    "data = pd.read_csv(data_file)\n",
    "print(data)"
   ]
  },
  {
   "cell_type": "markdown",
   "id": "89042148",
   "metadata": {
    "origin_pos": 4
   },
   "source": [
    "## 处理缺失值\n",
    "\n",
    "上表中的 “NaN” 项代表缺失值。\n",
    "为了处理缺失的数据，典型的方法包括插值法和删除法，其中插值法用一个替代值弥补缺失值，而删除法则直接忽略缺失值。\n",
    "在这里，我们将考虑插值法。\n",
    "\n",
    "通过位置索引`iloc`，我们将`data`分成`inputs`和`outputs`，\n",
    "其中前者为`data`的前两列，而后者为`data`的最后一列。\n",
    "对于`inputs`中缺少的数值，我们用 0 替换“NaN”项。"
   ]
  },
  {
   "cell_type": "code",
   "execution_count": 5,
   "id": "fde4c583",
   "metadata": {
    "execution": {
     "iopub.execute_input": "2022-12-07T16:43:12.400496Z",
     "iopub.status.busy": "2022-12-07T16:43:12.400006Z",
     "iopub.status.idle": "2022-12-07T16:43:12.409195Z",
     "shell.execute_reply": "2022-12-07T16:43:12.408381Z"
    },
    "origin_pos": 5,
    "tab": [
     "pytorch"
    ],
    "ExecuteTime": {
     "end_time": "2023-06-29T00:53:20.964821Z",
     "start_time": "2023-06-29T00:53:20.959617Z"
    }
   },
   "outputs": [
    {
     "name": "stdout",
     "output_type": "stream",
     "text": [
      "   NumRooms Alley\n",
      "0       0.0  Pave\n",
      "1       2.0     0\n",
      "2       4.0     0\n",
      "3       0.0     0\n"
     ]
    }
   ],
   "source": [
    "inputs, outputs = data.iloc[:, 0:2], data.iloc[:, 2]\n",
    "inputs = inputs.fillna(0)\n",
    "print(inputs)"
   ]
  },
  {
   "cell_type": "markdown",
   "id": "eb24fa3d",
   "metadata": {
    "origin_pos": 6
   },
   "source": [
    "对于`inputs`中的类别值或离散值，我们可以将 “NaN” 视为一个类别。\n",
    "由于“巷子类型”（“Alley”）列只接受两种类型的类别值“Pave”和“NaN”，`pandas`可以自动将此列转换为两列“Alley_Pave”和“Alley_nan”。\n",
    "巷子类型为“Pave”的行会将“Alley_Pave”的值设置为 1，“Alley_nan”的值设置为 0。\n",
    "缺少巷子类型的行会将 “Alley_Pave” 和 “Alley_nan” 分别设置为 0 和 1。"
   ]
  },
  {
   "cell_type": "code",
   "execution_count": 6,
   "id": "14ee7d74",
   "metadata": {
    "execution": {
     "iopub.execute_input": "2022-12-07T16:43:12.412538Z",
     "iopub.status.busy": "2022-12-07T16:43:12.412100Z",
     "iopub.status.idle": "2022-12-07T16:43:12.423073Z",
     "shell.execute_reply": "2022-12-07T16:43:12.422231Z"
    },
    "origin_pos": 7,
    "tab": [
     "pytorch"
    ],
    "ExecuteTime": {
     "end_time": "2023-06-29T00:54:21.785383Z",
     "start_time": "2023-06-29T00:54:21.780820Z"
    }
   },
   "outputs": [
    {
     "name": "stdout",
     "output_type": "stream",
     "text": [
      "   NumRooms  Alley_0  Alley_Pave  Alley_nan\n",
      "0       0.0        0           1          0\n",
      "1       2.0        1           0          0\n",
      "2       4.0        1           0          0\n",
      "3       0.0        1           0          0\n"
     ]
    }
   ],
   "source": [
    "inputs = pd.get_dummies(inputs, dummy_na=True)\n",
    "print(inputs)"
   ]
  },
  {
   "cell_type": "markdown",
   "id": "a3831f7f",
   "metadata": {
    "origin_pos": 8
   },
   "source": [
    "## 转换为张量格式\n",
    "\n",
    "现在`inputs`和`outputs`中的所有条目都是数值类型，它们可以转换为张量格式。"
   ]
  },
  {
   "cell_type": "code",
   "execution_count": 7,
   "id": "6a2688a8",
   "metadata": {
    "execution": {
     "iopub.execute_input": "2022-12-07T16:43:12.426430Z",
     "iopub.status.busy": "2022-12-07T16:43:12.425899Z",
     "iopub.status.idle": "2022-12-07T16:43:13.670511Z",
     "shell.execute_reply": "2022-12-07T16:43:13.669732Z"
    },
    "origin_pos": 10,
    "tab": [
     "pytorch"
    ],
    "ExecuteTime": {
     "end_time": "2023-06-29T00:54:52.954766Z",
     "start_time": "2023-06-29T00:54:51.100732Z"
    }
   },
   "outputs": [
    {
     "data": {
      "text/plain": "(tensor([[0., 0., 1., 0.],\n         [2., 1., 0., 0.],\n         [4., 1., 0., 0.],\n         [0., 1., 0., 0.]], dtype=torch.float64),\n tensor([127500, 106000, 178100, 140000]))"
     },
     "execution_count": 7,
     "metadata": {},
     "output_type": "execute_result"
    }
   ],
   "source": [
    "import torch\n",
    "\n",
    "X, y = torch.tensor(inputs.values), torch.tensor(outputs.values)\n",
    "X, y\n"
   ]
  }
 ],
 "metadata": {
  "language_info": {
   "name": "python"
  },
  "kernelspec": {
   "name": "python3",
   "language": "python",
   "display_name": "Python 3 (ipykernel)"
  }
 },
 "nbformat": 4,
 "nbformat_minor": 5
}
