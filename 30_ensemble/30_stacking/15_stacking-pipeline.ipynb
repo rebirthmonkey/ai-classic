{
 "cells": [
  {
   "cell_type": "code",
   "execution_count": 4,
   "id": "acute-norway",
   "metadata": {},
   "outputs": [],
   "source": [
    "from sklearn.datasets import load_iris\n",
    "from mlxtend.classifier import StackingClassifier\n",
    "from mlxtend.feature_selection import ColumnSelector\n",
    "from sklearn.pipeline import make_pipeline\n",
    "from sklearn.linear_model import LogisticRegression"
   ]
  },
  {
   "cell_type": "code",
   "execution_count": 5,
   "id": "improved-mexican",
   "metadata": {},
   "outputs": [],
   "source": [
    "# 载入载入鸢尾花数据集\n",
    "iris = load_iris()\n",
    "X = iris.data\n",
    "y = iris.target"
   ]
  },
  {
   "cell_type": "code",
   "execution_count": 6,
   "id": "norman-valentine",
   "metadata": {},
   "outputs": [
    {
     "data": {
      "text/plain": [
       "StackingClassifier(classifiers=[Pipeline(steps=[('columnselector',\n",
       "                                                 ColumnSelector(cols=(0, 2))),\n",
       "                                                ('logisticregression',\n",
       "                                                 LogisticRegression())]),\n",
       "                                Pipeline(steps=[('columnselector',\n",
       "                                                 ColumnSelector(cols=(1, 2,\n",
       "                                                                      3))),\n",
       "                                                ('logisticregression',\n",
       "                                                 LogisticRegression())])],\n",
       "                   meta_classifier=LogisticRegression())"
      ]
     },
     "execution_count": 6,
     "metadata": {},
     "output_type": "execute_result"
    }
   ],
   "source": [
    "# make pipeline 即流水线生成函数\n",
    "# 该函数讲data transform和model结合起来，\n",
    "# 使得多steps的机器学习流程能够抽象成一个class（即pipeline）\n",
    "pipe1 = make_pipeline(ColumnSelector(cols=(0, 2)), LogisticRegression())\n",
    "pipe2 = make_pipeline(ColumnSelector(cols=(1, 2, 3)), LogisticRegression())\n",
    "# 两个pipeline做stacking\n",
    "# classifiers 和 meta_classifier 即第一层和第二层的分类器\n",
    "sclf = StackingClassifier(classifiers=[pipe1, pipe2], meta_classifier=LogisticRegression())\n",
    "sclf.fit(X, y)"
   ]
  }
 ],
 "metadata": {
  "interpreter": {
   "hash": "a5950bd233fe1ee8df13839024468c0dae339d121cc033fd9820e3e5209fc92f"
  },
  "kernelspec": {
   "display_name": "Python 3",
   "language": "python",
   "name": "python3"
  },
  "language_info": {
   "codemirror_mode": {
    "name": "ipython",
    "version": 3
   },
   "file_extension": ".py",
   "mimetype": "text/x-python",
   "name": "python",
   "nbconvert_exporter": "python",
   "pygments_lexer": "ipython3",
   "version": "3.8.8"
  }
 },
 "nbformat": 4,
 "nbformat_minor": 5
}
