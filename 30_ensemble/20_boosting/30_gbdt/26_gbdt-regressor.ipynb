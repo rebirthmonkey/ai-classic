{
 "cells": [
  {
   "cell_type": "code",
   "execution_count": 1,
   "id": "e80d9de9",
   "metadata": {},
   "outputs": [],
   "source": [
    "# 准备环境变量\n",
    "import numpy as np\n",
    "import pandas as pd\n",
    "from sklearn.ensemble import GradientBoostingRegressor\n",
    "\n",
    "import os"
   ]
  },
  {
   "cell_type": "code",
   "execution_count": 5,
   "id": "481401f0",
   "metadata": {},
   "outputs": [
    {
     "name": "stdout",
     "output_type": "stream",
     "text": [
      "          0         1         2         3         4         5         6  \\\n",
      "0  0.005988  0.569231  0.647059  0.951220 -0.225434  0.837989  0.357258   \n",
      "1  0.161677  0.743195  0.682353  0.960976 -0.086705  0.780527  0.282945   \n",
      "2  0.113772  0.744379  0.541176  0.990244 -0.005780  0.721468  0.434110   \n",
      "3  0.053892  0.608284  0.764706  0.951220 -0.248555  0.821229  0.848604   \n",
      "4  0.173653  0.866272  0.682353  0.951220  0.017341  0.704709 -0.021002   \n",
      "\n",
      "          7         8      9  \n",
      "0 -0.003058 -0.383475  320.0  \n",
      "1  0.149847 -0.052966  361.0  \n",
      "2 -0.318043  0.288136  364.0  \n",
      "3 -0.003058  0.239407  336.0  \n",
      "4 -0.195719  0.150424  358.0  \n"
     ]
    }
   ],
   "source": [
    "# 读取训练集和测试集数据\n",
    "# 该数据集全部为数值型特征，预测目标也是数值数据\n",
    "# 最后一列为标签\n",
    "train_feature = np.genfromtxt(os.path.join(os.path.abspath('.'), \"dataset/train_feat.txt\"), dtype=np.float32)\n",
    "num_feature = len(train_feature[0])\n",
    "train_feature = pd.DataFrame(train_feature)\n",
    "print(train_feature.head())\n",
    "\n",
    "train_label = train_feature.iloc[:, num_feature - 1]\n",
    "train_feature = train_feature.iloc[:, 0:num_feature - 2]\n",
    "\n",
    "test_feature = np.genfromtxt(os.path.join(os.path.abspath('.'), \"dataset/test_feat.txt\"), dtype=np.float32)\n",
    "num_feature = len(test_feature[0])\n",
    "test_feature = pd.DataFrame(test_feature)\n",
    "\n",
    "test_label = test_feature.iloc[:, num_feature - 1]\n",
    "test_feature = test_feature.iloc[:, 0:num_feature - 2]"
   ]
  },
  {
   "cell_type": "code",
   "execution_count": 6,
   "id": "5acb9328",
   "metadata": {},
   "outputs": [],
   "source": [
    "# 建立回归模型\n",
    "gbdt = GradientBoostingRegressor(\n",
    "    loss='ls', learning_rate=0.1, n_estimators=100, subsample=1, min_samples_split=2, min_samples_leaf=1, max_depth=3, init=None, random_state=None, max_features=None, alpha=0.9, verbose=0, max_leaf_nodes=None, warm_start=False\n",
    ")\n",
    "gbdt.fit(train_feature, train_label)\n",
    "pred = gbdt.predict(test_feature)\n"
   ]
  },
  {
   "cell_type": "code",
   "execution_count": 7,
   "id": "9f0f85d9",
   "metadata": {},
   "outputs": [
    {
     "name": "stdout",
     "output_type": "stream",
     "text": [
      "pred: 320.00073840656484  label: 320.0\n",
      "pred: 360.99964938921045  label: 361.0\n",
      "pred: 363.9995697050138  label: 364.0\n",
      "pred: 336.0003134241827  label: 336.0\n",
      "pred: 357.99972907340714  label: 358.0\n",
      "mean squared error:  0.0004527608403796943\n"
     ]
    }
   ],
   "source": [
    "# 观察训练误差\n",
    "total_err = 0\n",
    "\n",
    "for i in range(pred.shape[0]):\n",
    "    print('pred:', pred[i], ' label:', test_label[i])\n",
    "    \n",
    "print('mean squared error: ', np.sqrt(((pred - test_label) ** 2).mean()))"
   ]
  },
  {
   "cell_type": "code",
   "execution_count": null,
   "metadata": {},
   "outputs": [],
   "source": []
  }
 ],
 "metadata": {
  "interpreter": {
   "hash": "a5950bd233fe1ee8df13839024468c0dae339d121cc033fd9820e3e5209fc92f"
  },
  "kernelspec": {
   "display_name": "Python 3.6.8 64-bit ('base': conda)",
   "name": "python3"
  },
  "language_info": {
   "codemirror_mode": {
    "name": "ipython",
    "version": 3
   },
   "file_extension": ".py",
   "mimetype": "text/x-python",
   "name": "python",
   "nbconvert_exporter": "python",
   "pygments_lexer": "ipython3",
   "version": "3.8.8"
  }
 },
 "nbformat": 4,
 "nbformat_minor": 5
}
