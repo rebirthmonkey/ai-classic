{
 "cells": [
  {
   "cell_type": "markdown",
   "id": "immediate-easter",
   "metadata": {},
   "source": [
    "# XGBoost"
   ]
  },
  {
   "cell_type": "markdown",
   "id": "sexual-bouquet",
   "metadata": {},
   "source": [
    "## Import"
   ]
  },
  {
   "cell_type": "code",
   "execution_count": 6,
   "id": "excess-queen",
   "metadata": {},
   "outputs": [],
   "source": [
    "from numpy import loadtxt\n",
    "from xgboost import XGBClassifier\n",
    "from sklearn.model_selection import train_test_split\n",
    "from sklearn.metrics import accuracy_score\n",
    "\n",
    "# 系统库\n",
    "import os, sys\n",
    "\n",
    "# 自带数据\n",
    "datalib_path = os.path.join(os.path.abspath('.'), '../../../../')\n",
    "sys.path.append(datalib_path)\n",
    "import dataset"
   ]
  },
  {
   "cell_type": "markdown",
   "id": "featured-athletics",
   "metadata": {},
   "source": [
    "## Load Data"
   ]
  },
  {
   "cell_type": "code",
   "execution_count": 7,
   "id": "pediatric-dutch",
   "metadata": {},
   "outputs": [],
   "source": [
    "# 印第安人的糖尿病数据\n",
    "dataset = loadtxt(os.path.join(dataset.indians_path, 'pima-indians-diabetes.csv'), delimiter=\",\")\n",
    "X = dataset[:, 0:8]  # split data into dataset and label\n",
    "y = dataset[:, 8]\n",
    "seed = 7\n",
    "test_size = 0.33\n",
    "X_train, X_test, y_train, y_test = train_test_split(X, y, test_size=test_size, random_state=seed)  # split data into train and test sets"
   ]
  },
  {
   "cell_type": "markdown",
   "id": "republican-lotus",
   "metadata": {},
   "source": [
    "## Train & Predict"
   ]
  },
  {
   "cell_type": "code",
   "execution_count": 8,
   "id": "prompt-corruption",
   "metadata": {},
   "outputs": [
    {
     "name": "stdout",
     "output_type": "stream",
     "text": [
      "Accuracy: 74.02%\n"
     ]
    }
   ],
   "source": [
    "xgbClf = XGBClassifier(use_label_encoder=False, eval_metric='logloss')\n",
    "xgbClf.fit(X_train, y_train)\n",
    "y_pred = xgbClf.predict(X_test)\n",
    "predictions = [round(value) for value in y_pred]\n",
    "accuracy = accuracy_score(y_test, predictions)\n",
    "print(\"Accuracy: %.2f%%\" % (accuracy * 100.0))"
   ]
  }
 ],
 "metadata": {
  "interpreter": {
   "hash": "a5950bd233fe1ee8df13839024468c0dae339d121cc033fd9820e3e5209fc92f"
  },
  "kernelspec": {
   "display_name": "Python 3",
   "language": "python",
   "name": "python3"
  },
  "language_info": {
   "codemirror_mode": {
    "name": "ipython",
    "version": 3
   },
   "file_extension": ".py",
   "mimetype": "text/x-python",
   "name": "python",
   "nbconvert_exporter": "python",
   "pygments_lexer": "ipython3",
   "version": "3.8.8"
  }
 },
 "nbformat": 4,
 "nbformat_minor": 5
}
